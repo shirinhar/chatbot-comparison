{
 "cells": [
  {
   "cell_type": "code",
   "execution_count": 1,
   "id": "nonprofit-research",
   "metadata": {},
   "outputs": [],
   "source": [
    "import json\n",
    "import codecs\n",
    "import uuid\n",
    "import ast"
   ]
  },
  {
   "cell_type": "code",
   "execution_count": 2,
   "id": "white-rehabilitation",
   "metadata": {},
   "outputs": [],
   "source": [
    "rasaStoriesFile = 'converted_files/data/stories.md'\n",
    "rasaUtterancesFile = 'converted_files/data/nlu.md'\n",
    "rasaDomainFile = 'converted_files/domain.yml'\n",
    "\n",
    "flowEntities = 'dialogflow/entities/'"
   ]
  },
  {
   "cell_type": "code",
   "execution_count": 3,
   "id": "dominant-journalist",
   "metadata": {},
   "outputs": [],
   "source": [
    "entities = []\n",
    "entity_set = {}"
   ]
  },
  {
   "cell_type": "code",
   "execution_count": 4,
   "id": "starting-sword",
   "metadata": {},
   "outputs": [],
   "source": [
    "def get_entities_from_domain(domain):\n",
    "    \n",
    "    printer = False\n",
    "    first_line = True\n",
    "    entities = []\n",
    "    \n",
    "    domain_options = ['slots:\\n', 'actions:\\n', 'responses:\\n', 'intents:\\n']\n",
    "    \n",
    "    with codecs.open(domain, 'r', 'utf-8') as f_out:\n",
    "        for line in f_out:\n",
    "            \n",
    "            first_line = True\n",
    "            \n",
    "            if line == 'entities:\\n':\n",
    "                printer = True\n",
    "                first_line = False\n",
    "                \n",
    "            if line in domain_options:\n",
    "                printer = False\n",
    "                \n",
    "            if printer and first_line:\n",
    "                line = line.strip()\n",
    "                line = line.replace(' ', '')\n",
    "                line = line.replace('-', '')\n",
    "                entities.append(line)\n",
    "\n",
    "    return entities[:-1]\n",
    "\n",
    "entities = get_entities_from_domain(rasaDomainFile)"
   ]
  },
  {
   "cell_type": "markdown",
   "id": "naked-binary",
   "metadata": {},
   "source": [
    "### Write basic entity file"
   ]
  },
  {
   "cell_type": "code",
   "execution_count": 5,
   "id": "detailed-network",
   "metadata": {},
   "outputs": [],
   "source": [
    "for entity in entities:\n",
    "    description = {\n",
    "      \"id\": str(uuid.uuid4()),\n",
    "      \"name\": entity,\n",
    "      \"isOverridable\": True,\n",
    "      \"isEnum\": False,\n",
    "      \"isRegexp\": False,\n",
    "      \"automatedExpansion\": True,\n",
    "      \"allowFuzzyExtraction\": True\n",
    "    }    \n",
    "    \n",
    "    with open(flowEntities + entity +'.json', 'w') as outfile:\n",
    "        json.dump(description, outfile,indent=2)\n",
    "        \n",
    "    entity_set[entity] = set()\n"
   ]
  },
  {
   "cell_type": "markdown",
   "id": "front-salad",
   "metadata": {},
   "source": [
    "### Get entity examples"
   ]
  },
  {
   "cell_type": "code",
   "execution_count": 10,
   "id": "respiratory-quarter",
   "metadata": {
    "scrolled": true
   },
   "outputs": [],
   "source": [
    "def get_entity_examples_from_stories(stories):\n",
    "    \n",
    "    entity_set['type'] = set()\n",
    "    with codecs.open(stories, 'r', 'utf-8') as f_out:\n",
    "        for line in f_out:\n",
    "            for entity in entities:\n",
    "                if entity in line:\n",
    "\n",
    "                    myLine = line[line.index(entity):]\n",
    "                    if ':' in myLine:\n",
    "                        myLine = myLine[myLine.index(':'):]\n",
    "                        myLine = myLine[3:]\n",
    "                        val = myLine[:myLine.index('\"')]\n",
    "                        \n",
    "                        entity_set[entity] = entity_set[entity] |{val} \n",
    "                                    \n",
    "get_entity_examples_from_stories(rasaStoriesFile)"
   ]
  },
  {
   "cell_type": "code",
   "execution_count": 11,
   "id": "according-radar",
   "metadata": {},
   "outputs": [],
   "source": [
    "def get_entity_examples_from_nlu(nlu):\n",
    "\n",
    "    entity_set['type'] = set()\n",
    "    with codecs.open(nlu, 'r', 'utf-8') as f_out:\n",
    "        for line in f_out:\n",
    "            for entity in entities:\n",
    "                padded_ent = '('+entity+')'\n",
    "                if padded_ent in line:\n",
    "\n",
    "                    myLine = line[:line.index(entity)]\n",
    "                    val = myLine[myLine.index('['):][1:-2]\n",
    "                        \n",
    "                    entity_set[entity] = entity_set[entity] |{val} \n",
    "                        \n",
    "get_entity_examples_from_nlu(rasaUtterancesFile)"
   ]
  },
  {
   "cell_type": "code",
   "execution_count": 15,
   "id": "filled-direction",
   "metadata": {
    "scrolled": true
   },
   "outputs": [],
   "source": [
    "for ent_set in entity_set:\n",
    "    \n",
    "#     print(ent_set)\n",
    "    \n",
    "    outp = []\n",
    "    \n",
    "    for e in entity_set[ent_set]:\n",
    "        vals = {\n",
    "            \"value\": e,\n",
    "            \"synonyms\": [e]\n",
    "        }\n",
    "        \n",
    "        outp.append(vals)\n",
    "    \n",
    "    with open(flowEntities + ent_set +'_entires_en.json', 'w') as outfile:\n",
    "        json.dump(outp, outfile,indent=2)\n",
    "        "
   ]
  },
  {
   "cell_type": "code",
   "execution_count": null,
   "id": "brilliant-blend",
   "metadata": {},
   "outputs": [],
   "source": []
  }
 ],
 "metadata": {
  "kernelspec": {
   "display_name": "Python 3",
   "language": "python",
   "name": "python3"
  },
  "language_info": {
   "codemirror_mode": {
    "name": "ipython",
    "version": 3
   },
   "file_extension": ".py",
   "mimetype": "text/x-python",
   "name": "python",
   "nbconvert_exporter": "python",
   "pygments_lexer": "ipython3",
   "version": "3.9.1"
  }
 },
 "nbformat": 4,
 "nbformat_minor": 5
}
