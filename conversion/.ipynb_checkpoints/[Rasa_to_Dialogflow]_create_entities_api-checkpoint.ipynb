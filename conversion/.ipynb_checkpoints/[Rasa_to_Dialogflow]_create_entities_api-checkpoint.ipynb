{
 "cells": [
  {
   "cell_type": "code",
   "execution_count": 1,
   "id": "nonprofit-research",
   "metadata": {
    "pycharm": {}
   },
   "outputs": [],
   "source": [
    "import json\n",
    "import codecs\n",
    "import uuid\n",
    "import ast\n",
    "import requests\n",
    "import google.cloud.dialogflow_v2 as dialogflow\n",
    "import time\n",
    "\n",
    "import os\n",
    "os.environ[\"GOOGLE_APPLICATION_CREDENTIALS\"] = \"key_service.json\""
   ]
  },
  {
   "cell_type": "code",
   "execution_count": 2,
   "id": "white-rehabilitation",
   "metadata": {
    "pycharm": {}
   },
   "outputs": [],
   "source": [
    "rasaStoriesFile = 'converted_files/data/stories.md'\n",
    "rasaUtterancesFile = 'converted_files/data/nlu.md'\n",
    "rasaDomainFile = 'converted_files/domain.yml'\n",
    "\n",
    "flowEntities = 'dialogflow/entities/'\n",
    "\n",
    "PROJECT_ID = 'test2-iovj'\n",
    "DEVELOPER_ACCESS_TOKEN = 'HIDDEN'"
   ]
  },
  {
   "cell_type": "code",
   "execution_count": 3,
   "id": "dominant-journalist",
   "metadata": {
    "pycharm": {}
   },
   "outputs": [],
   "source": [
    "entities = []\n",
    "entity_set = {}"
   ]
  },
  {
   "cell_type": "code",
   "execution_count": 4,
   "id": "starting-sword",
   "metadata": {
    "pycharm": {}
   },
   "outputs": [],
   "source": [
    "def get_entities_from_domain(domain):\n",
    "    \n",
    "    printer = False\n",
    "    first_line = True\n",
    "    entities = []\n",
    "    \n",
    "    domain_options = ['slots:\\n', 'actions:\\n', 'responses:\\n', 'intents:\\n']\n",
    "    \n",
    "    with codecs.open(domain, 'r', 'utf-8') as f_out:\n",
    "        for line in f_out:\n",
    "            \n",
    "            first_line = True\n",
    "            \n",
    "            if line == 'entities:\\n':\n",
    "                printer = True\n",
    "                first_line = False\n",
    "                \n",
    "            if line in domain_options:\n",
    "                printer = False\n",
    "                \n",
    "            if printer and first_line:\n",
    "                line = line.strip()\n",
    "                line = line.replace(' ', '')\n",
    "                line = line.replace('-', '')\n",
    "                entities.append(line)\n",
    "\n",
    "    return entities[:-1]\n",
    "\n",
    "entities = get_entities_from_domain(rasaDomainFile)"
   ]
  },
  {
   "cell_type": "markdown",
   "id": "naked-binary",
   "metadata": {
    "pycharm": {}
   },
   "source": [
    "### create entity set"
   ]
  },
  {
   "cell_type": "code",
   "execution_count": 5,
   "id": "detailed-network",
   "metadata": {
    "pycharm": {}
   },
   "outputs": [],
   "source": [
    "for entity in entities:\n",
    "#     description = {\n",
    "#       \"id\": str(uuid.uuid4()),\n",
    "#       \"name\": entity,\n",
    "#       \"isOverridable\": True,\n",
    "#       \"isEnum\": False,\n",
    "#       \"isRegexp\": False,\n",
    "#       \"automatedExpansion\": True,\n",
    "#       \"allowFuzzyExtraction\": True\n",
    "#     }    \n",
    "    \n",
    "#     with open(flowEntities + entity +'.json', 'w') as outfile:\n",
    "#         json.dump(description, outfile,indent=2)\n",
    "        \n",
    "    entity_set[entity] = set()\n"
   ]
  },
  {
   "cell_type": "markdown",
   "id": "front-salad",
   "metadata": {
    "pycharm": {}
   },
   "source": [
    "### Get entity examples"
   ]
  },
  {
   "cell_type": "code",
   "execution_count": 6,
   "id": "respiratory-quarter",
   "metadata": {
    "pycharm": {},
    "scrolled": true
   },
   "outputs": [],
   "source": [
    "def get_entity_examples_from_stories(stories):\n",
    "    \n",
    "    entity_set['type'] = set()\n",
    "    with codecs.open(stories, 'r', 'utf-8') as f_out:\n",
    "        for line in f_out:\n",
    "            for entity in entities:\n",
    "                if entity in line:\n",
    "\n",
    "                    myLine = line[line.index(entity):]\n",
    "                    if ':' in myLine:\n",
    "                        myLine = myLine[myLine.index(':'):]\n",
    "                        myLine = myLine[3:]\n",
    "                        val = myLine[:myLine.index('\"')]\n",
    "                        \n",
    "                        entity_set[entity] = entity_set[entity] |{val} \n",
    "                                    \n",
    "get_entity_examples_from_stories(rasaStoriesFile)"
   ]
  },
  {
   "cell_type": "code",
   "execution_count": 7,
   "id": "according-radar",
   "metadata": {
    "pycharm": {}
   },
   "outputs": [],
   "source": [
    "def get_entity_examples_from_nlu(nlu):\n",
    "\n",
    "    entity_set['type'] = set()\n",
    "    with codecs.open(nlu, 'r', 'utf-8') as f_out:\n",
    "        for line in f_out:\n",
    "            for entity in entities:\n",
    "                padded_ent = '('+entity+')'\n",
    "                if padded_ent in line:\n",
    "\n",
    "                    myLine = line[:line.index(entity)]\n",
    "                    val = myLine[myLine.index('['):][1:-2]\n",
    "                        \n",
    "                    entity_set[entity] = entity_set[entity] |{val} \n",
    "                        \n",
    "get_entity_examples_from_nlu(rasaUtterancesFile)"
   ]
  },
  {
   "cell_type": "markdown",
   "id": "extreme-desire",
   "metadata": {},
   "source": [
    "## API Calls"
   ]
  },
  {
   "cell_type": "code",
   "execution_count": 8,
   "id": "brilliant-blend",
   "metadata": {
    "pycharm": {}
   },
   "outputs": [],
   "source": [
    "def create_entity(project_id, entity_type_id, entity_value, synonyms):\n",
    "    \"\"\"Create an entity of the given entity type.\"\"\"\n",
    "    entity_types_client = dialogflow.EntityTypesClient()\n",
    "\n",
    "    # Note: synonyms must be exactly [area] if the\n",
    "    # entity_type's kind is KIND_LIST\n",
    "    synonyms = synonyms or [entity_value]\n",
    "\n",
    "    entity_type_path = entity_types_client.entity_type_path(\n",
    "        project_id, entity_type_id)\n",
    "\n",
    "    entity = dialogflow.types.EntityType.Entity()\n",
    "    entity.value = entity_value\n",
    "    entity.synonyms.extend(synonyms)\n",
    "\n",
    "    response = entity_types_client.batch_create_entities({\n",
    "        'parent': entity_type_path, 'entities':[entity]})\n",
    "\n",
    "    print('Entity created: {}'.format(response))"
   ]
  },
  {
   "cell_type": "code",
   "execution_count": 9,
   "id": "hindu-creativity",
   "metadata": {
    "pycharm": {}
   },
   "outputs": [],
   "source": [
    "def create_entity_type(project_id, display_name):\n",
    "    \"\"\"Create an entity type with the given display name.\"\"\"\n",
    "    \n",
    "    kind = dialogflow.types.EntityType.Kind.KIND_MAP\n",
    "    \n",
    "    entity_type = dialogflow.types.EntityType(\n",
    "        display_name=display_name, kind=kind)\n",
    "    \n",
    "    entity_types_client = dialogflow.EntityTypesClient();\n",
    " \n",
    "    parent = dialogflow.AgentsClient.agent_path(project_id)\n",
    "\n",
    "    response = entity_types_client.create_entity_type({'parent':parent, 'entity_type': entity_type})\n",
    "\n",
    "    \n",
    "    print('Entity type created: \\n{}'.format(response))\n",
    "    \n",
    "    return response"
   ]
  },
  {
   "cell_type": "markdown",
   "id": "sophisticated-classroom",
   "metadata": {},
   "source": [
    "## send to API"
   ]
  },
  {
   "cell_type": "code",
   "execution_count": 11,
   "id": "hollywood-parliament",
   "metadata": {
    "scrolled": true
   },
   "outputs": [
    {
     "name": "stdout",
     "output_type": "stream",
     "text": [
      "Entity type created: \n",
      "name: \"projects/test2-iovj/agent/entityTypes/8be5b44d-578d-4ffd-ae04-393236acf17e\"\n",
      "display_name: \"area\"\n",
      "kind: KIND_MAP\n",
      "\n",
      "Entity created: <google.api_core.operation.Operation object at 0x10da74ac0>\n",
      "Entity created: <google.api_core.operation.Operation object at 0x10da74340>\n",
      "Entity created: <google.api_core.operation.Operation object at 0x10da74730>\n",
      "Entity created: <google.api_core.operation.Operation object at 0x10b68c520>\n",
      "Entity created: <google.api_core.operation.Operation object at 0x10da74730>\n",
      "Entity created: <google.api_core.operation.Operation object at 0x10da802e0>\n",
      "Entity type created: \n",
      "name: \"projects/test2-iovj/agent/entityTypes/82f7cb19-c7cd-464f-b65b-780e9ce345b3\"\n",
      "display_name: \"pricerange\"\n",
      "kind: KIND_MAP\n",
      "\n",
      "Entity created: <google.api_core.operation.Operation object at 0x10da80340>\n",
      "Entity created: <google.api_core.operation.Operation object at 0x10da800a0>\n",
      "Entity created: <google.api_core.operation.Operation object at 0x10da80520>\n",
      "Entity created: <google.api_core.operation.Operation object at 0x10da80490>\n",
      "Entity type created: \n",
      "name: \"projects/test2-iovj/agent/entityTypes/8fa16c2d-283a-4818-be81-eef197e402ba\"\n",
      "display_name: \"name\"\n",
      "kind: KIND_MAP\n",
      "\n",
      "Entity created: <google.api_core.operation.Operation object at 0x10da80670>\n",
      "Entity created: <google.api_core.operation.Operation object at 0x10da802e0>\n",
      "Entity created: <google.api_core.operation.Operation object at 0x10da80790>\n",
      "Entity created: <google.api_core.operation.Operation object at 0x10da80640>\n",
      "Entity created: <google.api_core.operation.Operation object at 0x10da807f0>\n",
      "Entity created: <google.api_core.operation.Operation object at 0x10da808b0>\n",
      "Entity created: <google.api_core.operation.Operation object at 0x10da80940>\n",
      "Entity created: <google.api_core.operation.Operation object at 0x10da80a30>\n",
      "Entity type created: \n",
      "name: \"projects/test2-iovj/agent/entityTypes/e0f44d09-6026-48dc-9747-e128496fff68\"\n",
      "display_name: \"slot\"\n",
      "kind: KIND_MAP\n",
      "\n",
      "Entity created: <google.api_core.operation.Operation object at 0x10da80af0>\n",
      "Entity created: <google.api_core.operation.Operation object at 0x10da80610>\n",
      "waiting...\n",
      "wait over\n",
      "Entity created: <google.api_core.operation.Operation object at 0x10da80cd0>\n",
      "Entity created: <google.api_core.operation.Operation object at 0x10da80d00>\n",
      "Entity created: <google.api_core.operation.Operation object at 0x10da80460>\n",
      "Entity created: <google.api_core.operation.Operation object at 0x10da80e20>\n",
      "Entity created: <google.api_core.operation.Operation object at 0x10da80ac0>\n",
      "Entity created: <google.api_core.operation.Operation object at 0x10da80760>\n",
      "Entity created: <google.api_core.operation.Operation object at 0x10da80880>\n",
      "Entity type created: \n",
      "name: \"projects/test2-iovj/agent/entityTypes/049498da-8bc6-4733-b7ef-0c67cf6d5a5b\"\n",
      "display_name: \"this\"\n",
      "kind: KIND_MAP\n",
      "\n",
      "Entity type created: \n",
      "name: \"projects/test2-iovj/agent/entityTypes/ea55bfb5-edee-4f46-8f5b-840452aa29ad\"\n",
      "display_name: \"food\"\n",
      "kind: KIND_MAP\n",
      "\n",
      "Entity created: <google.api_core.operation.Operation object at 0x10da80370>\n",
      "Entity created: <google.api_core.operation.Operation object at 0x10da74dc0>\n",
      "Entity created: <google.api_core.operation.Operation object at 0x10da80f40>\n",
      "Entity created: <google.api_core.operation.Operation object at 0x10da7d1c0>\n",
      "Entity created: <google.api_core.operation.Operation object at 0x10da7d160>\n",
      "Entity created: <google.api_core.operation.Operation object at 0x10da7d310>\n",
      "Entity created: <google.api_core.operation.Operation object at 0x10da7d1c0>\n",
      "Entity created: <google.api_core.operation.Operation object at 0x10da7d400>\n",
      "Entity created: <google.api_core.operation.Operation object at 0x10da7d2e0>\n",
      "Entity created: <google.api_core.operation.Operation object at 0x10da7d4c0>\n",
      "Entity created: <google.api_core.operation.Operation object at 0x10da7d550>\n",
      "Entity created: <google.api_core.operation.Operation object at 0x10da7d250>\n",
      "Entity created: <google.api_core.operation.Operation object at 0x10da7d340>\n",
      "waiting...\n",
      "wait over\n",
      "Entity created: <google.api_core.operation.Operation object at 0x10da7d1c0>\n",
      "Entity created: <google.api_core.operation.Operation object at 0x10da7d4f0>\n",
      "Entity created: <google.api_core.operation.Operation object at 0x10da7d0a0>\n",
      "Entity created: <google.api_core.operation.Operation object at 0x10da7d670>\n",
      "Entity created: <google.api_core.operation.Operation object at 0x10da7d370>\n",
      "Entity created: <google.api_core.operation.Operation object at 0x10da7d910>\n",
      "Entity created: <google.api_core.operation.Operation object at 0x10da7d1f0>\n",
      "Entity created: <google.api_core.operation.Operation object at 0x10da7d970>\n",
      "Entity created: <google.api_core.operation.Operation object at 0x10da7d160>\n",
      "Entity created: <google.api_core.operation.Operation object at 0x10da7d580>\n",
      "Entity created: <google.api_core.operation.Operation object at 0x10da7daf0>\n",
      "Entity created: <google.api_core.operation.Operation object at 0x10da7db50>\n",
      "Entity created: <google.api_core.operation.Operation object at 0x10da7d670>\n",
      "Entity created: <google.api_core.operation.Operation object at 0x10da7da60>\n",
      "Entity created: <google.api_core.operation.Operation object at 0x10da7d9a0>\n",
      "Entity created: <google.api_core.operation.Operation object at 0x10da7da60>\n",
      "Entity created: <google.api_core.operation.Operation object at 0x10da7d2b0>\n",
      "Entity created: <google.api_core.operation.Operation object at 0x10da7d8e0>\n",
      "Entity created: <google.api_core.operation.Operation object at 0x10da7d700>\n",
      "Entity created: <google.api_core.operation.Operation object at 0x10da7d400>\n",
      "waiting...\n",
      "wait over\n",
      "Entity created: <google.api_core.operation.Operation object at 0x10da7dd00>\n",
      "Entity created: <google.api_core.operation.Operation object at 0x10da7d640>\n",
      "Entity created: <google.api_core.operation.Operation object at 0x10da7d4c0>\n",
      "Entity created: <google.api_core.operation.Operation object at 0x10da7d430>\n",
      "Entity created: <google.api_core.operation.Operation object at 0x10da80970>\n",
      "Entity created: <google.api_core.operation.Operation object at 0x10da7d850>\n",
      "Entity created: <google.api_core.operation.Operation object at 0x10da871f0>\n",
      "Entity created: <google.api_core.operation.Operation object at 0x10da881f0>\n",
      "Entity created: <google.api_core.operation.Operation object at 0x10da871c0>\n",
      "Entity created: <google.api_core.operation.Operation object at 0x10da872b0>\n",
      "Entity created: <google.api_core.operation.Operation object at 0x10da86310>\n",
      "Entity created: <google.api_core.operation.Operation object at 0x10da88370>\n",
      "Entity created: <google.api_core.operation.Operation object at 0x10da883d0>\n",
      "Entity created: <google.api_core.operation.Operation object at 0x10da884c0>\n",
      "Entity created: <google.api_core.operation.Operation object at 0x10da885e0>\n",
      "Entity created: <google.api_core.operation.Operation object at 0x10da88670>\n",
      "Entity created: <google.api_core.operation.Operation object at 0x10da881f0>\n",
      "Entity created: <google.api_core.operation.Operation object at 0x10da88760>\n",
      "Entity created: <google.api_core.operation.Operation object at 0x10da88310>\n",
      "Entity created: <google.api_core.operation.Operation object at 0x10da887c0>\n",
      "waiting...\n",
      "wait over\n",
      "Entity created: <google.api_core.operation.Operation object at 0x10da88640>\n",
      "Entity created: <google.api_core.operation.Operation object at 0x10da883d0>\n",
      "Entity created: <google.api_core.operation.Operation object at 0x10da88490>\n",
      "Entity created: <google.api_core.operation.Operation object at 0x10da88040>\n",
      "Entity created: <google.api_core.operation.Operation object at 0x10da88190>\n",
      "Entity created: <google.api_core.operation.Operation object at 0x10da88a60>\n",
      "Entity created: <google.api_core.operation.Operation object at 0x10da88700>\n",
      "Entity created: <google.api_core.operation.Operation object at 0x10da887f0>\n",
      "Entity created: <google.api_core.operation.Operation object at 0x10da88970>\n",
      "Entity created: <google.api_core.operation.Operation object at 0x10da88b20>\n",
      "Entity created: <google.api_core.operation.Operation object at 0x10da88640>\n",
      "Entity created: <google.api_core.operation.Operation object at 0x10da88340>\n",
      "Entity created: <google.api_core.operation.Operation object at 0x10da88700>\n",
      "Entity created: <google.api_core.operation.Operation object at 0x10da88820>\n",
      "Entity created: <google.api_core.operation.Operation object at 0x10da88ee0>\n",
      "Entity created: <google.api_core.operation.Operation object at 0x10da88880>\n"
     ]
    },
    {
     "name": "stdout",
     "output_type": "stream",
     "text": [
      "Entity created: <google.api_core.operation.Operation object at 0x10da88130>\n",
      "Entity created: <google.api_core.operation.Operation object at 0x10da88580>\n",
      "Entity created: <google.api_core.operation.Operation object at 0x10da88a60>\n",
      "Entity created: <google.api_core.operation.Operation object at 0x10da884f0>\n",
      "waiting...\n",
      "wait over\n",
      "Entity type created: \n",
      "name: \"projects/test2-iovj/agent/entityTypes/a68e4965-2ad8-4c5a-8069-83879f53711b\"\n",
      "display_name: \"type\"\n",
      "kind: KIND_MAP\n",
      "\n"
     ]
    }
   ],
   "source": [
    "counter = 0\n",
    "\n",
    "for ent_set in entity_set:\n",
    "    \n",
    "    \n",
    "    entity_out = create_entity_type(PROJECT_ID, ent_set)\n",
    "    entity_id = entity_out.name[-36:]\n",
    "        \n",
    "    for e in entity_set[ent_set]:\n",
    "        \n",
    "        if e == '':\n",
    "            continue\n",
    "\n",
    "        create_entity(PROJECT_ID, entity_id,e, [e])\n",
    "        counter +=1 \n",
    "        \n",
    "        if not counter % 20:\n",
    "            print('waiting...')\n",
    "            time.sleep(20)\n",
    "            print('wait over')"
   ]
  },
  {
   "cell_type": "code",
   "execution_count": null,
   "id": "surface-bottle",
   "metadata": {},
   "outputs": [],
   "source": []
  }
 ],
 "metadata": {
  "kernelspec": {
   "display_name": "Python 3",
   "language": "python",
   "name": "python3"
  },
  "language_info": {
   "codemirror_mode": {
    "name": "ipython",
    "version": 3
   },
   "file_extension": ".py",
   "mimetype": "text/x-python",
   "name": "python",
   "nbconvert_exporter": "python",
   "pygments_lexer": "ipython3",
   "version": "3.9.1"
  }
 },
 "nbformat": 4,
 "nbformat_minor": 5
}
